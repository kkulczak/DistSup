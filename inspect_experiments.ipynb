{
 "cells": [
  {
   "cell_type": "code",
   "execution_count": 12,
   "metadata": {
    "collapsed": true
   },
   "outputs": [
    {
     "name": "stdout",
     "output_type": "stream",
     "text": [
      "The autoreload extension is already loaded. To reload it, use:\n",
      "  %reload_ext autoreload\n"
     ]
    }
   ],
   "source": [
    "import numpy as np\n",
    "import pandas as pd\n",
    "from parser_random_exp import parse_results\n",
    "import matplotlib.pyplot as plt\n",
    "%load_ext autoreload\n",
    "%autoreload 2\n",
    "\n"
   ]
  },
  {
   "cell_type": "code",
   "execution_count": 16,
   "outputs": [
    {
     "name": "stdout",
     "output_type": "stream",
     "text": [
      "         exp_id _try                name step     value\n",
      "0  4616315d-141    1  vq_code_usage_frac    1  0.775890\n",
      "1  4616315d-141    1               f1/f1    1  0.311089\n",
      "2  4616315d-141    1        f1/precision    1  0.371282\n",
      "3  4616315d-141    1           f1/recall    1  0.272146\n",
      "4  4616315d-141    1  vq_code_usage_frac    1  0.775890\n"
     ]
    }
   ],
   "source": [
    "data, params = parse_results()"
   ],
   "metadata": {
    "collapsed": false,
    "pycharm": {
     "name": "#%%\n"
    }
   }
  },
  {
   "cell_type": "code",
   "execution_count": 24,
   "outputs": [],
   "source": [
    "met = 'many_es_to_one_gt_accuracy/gan_tokens'\n",
    "res = data[data['name'] == met].round(2)"
   ],
   "metadata": {
    "collapsed": false,
    "pycharm": {
     "name": "#%%\n"
    }
   }
  },
  {
   "cell_type": "code",
   "execution_count": 35,
   "outputs": [
    {
     "data": {
      "text/plain": "                  value                                                    \\\n                  count   mean           std   min     25%    50%     75%   \nexp_id       _try                                                           \n4616315d-141 1     10.0  0.275  5.270463e-03  0.27  0.2700  0.275  0.2800   \naf188d54-05d 0     10.0  0.234  5.189733e-02  0.17  0.1750  0.260  0.2800   \n53ac70df-434 0     10.0  0.250  8.164966e-03  0.24  0.2425  0.250  0.2575   \n             1     10.0  0.257  4.830459e-03  0.25  0.2525  0.260  0.2600   \n65b6820b-b39 1     10.0  0.253  4.830459e-03  0.25  0.2500  0.250  0.2575   \naf188d54-05d 1     10.0  0.225  3.135815e-02  0.16  0.2225  0.235  0.2400   \n4616315d-141 0     10.0  0.233  1.059350e-02  0.22  0.2300  0.230  0.2375   \n65b6820b-b39 0     10.0  0.240  5.851389e-17  0.24  0.2400  0.240  0.2400   \n\n                         \n                    max  \nexp_id       _try        \n4616315d-141 1     0.28  \naf188d54-05d 0     0.28  \n53ac70df-434 0     0.26  \n             1     0.26  \n65b6820b-b39 1     0.26  \naf188d54-05d 1     0.26  \n4616315d-141 0     0.25  \n65b6820b-b39 0     0.24  ",
      "text/html": "<div>\n<style scoped>\n    .dataframe tbody tr th:only-of-type {\n        vertical-align: middle;\n    }\n\n    .dataframe tbody tr th {\n        vertical-align: top;\n    }\n\n    .dataframe thead tr th {\n        text-align: left;\n    }\n\n    .dataframe thead tr:last-of-type th {\n        text-align: right;\n    }\n</style>\n<table border=\"1\" class=\"dataframe\">\n  <thead>\n    <tr>\n      <th></th>\n      <th></th>\n      <th colspan=\"8\" halign=\"left\">value</th>\n    </tr>\n    <tr>\n      <th></th>\n      <th></th>\n      <th>count</th>\n      <th>mean</th>\n      <th>std</th>\n      <th>min</th>\n      <th>25%</th>\n      <th>50%</th>\n      <th>75%</th>\n      <th>max</th>\n    </tr>\n    <tr>\n      <th>exp_id</th>\n      <th>_try</th>\n      <th></th>\n      <th></th>\n      <th></th>\n      <th></th>\n      <th></th>\n      <th></th>\n      <th></th>\n      <th></th>\n    </tr>\n  </thead>\n  <tbody>\n    <tr>\n      <th>4616315d-141</th>\n      <th>1</th>\n      <td>10.0</td>\n      <td>0.275</td>\n      <td>5.270463e-03</td>\n      <td>0.27</td>\n      <td>0.2700</td>\n      <td>0.275</td>\n      <td>0.2800</td>\n      <td>0.28</td>\n    </tr>\n    <tr>\n      <th>af188d54-05d</th>\n      <th>0</th>\n      <td>10.0</td>\n      <td>0.234</td>\n      <td>5.189733e-02</td>\n      <td>0.17</td>\n      <td>0.1750</td>\n      <td>0.260</td>\n      <td>0.2800</td>\n      <td>0.28</td>\n    </tr>\n    <tr>\n      <th rowspan=\"2\" valign=\"top\">53ac70df-434</th>\n      <th>0</th>\n      <td>10.0</td>\n      <td>0.250</td>\n      <td>8.164966e-03</td>\n      <td>0.24</td>\n      <td>0.2425</td>\n      <td>0.250</td>\n      <td>0.2575</td>\n      <td>0.26</td>\n    </tr>\n    <tr>\n      <th>1</th>\n      <td>10.0</td>\n      <td>0.257</td>\n      <td>4.830459e-03</td>\n      <td>0.25</td>\n      <td>0.2525</td>\n      <td>0.260</td>\n      <td>0.2600</td>\n      <td>0.26</td>\n    </tr>\n    <tr>\n      <th>65b6820b-b39</th>\n      <th>1</th>\n      <td>10.0</td>\n      <td>0.253</td>\n      <td>4.830459e-03</td>\n      <td>0.25</td>\n      <td>0.2500</td>\n      <td>0.250</td>\n      <td>0.2575</td>\n      <td>0.26</td>\n    </tr>\n    <tr>\n      <th>af188d54-05d</th>\n      <th>1</th>\n      <td>10.0</td>\n      <td>0.225</td>\n      <td>3.135815e-02</td>\n      <td>0.16</td>\n      <td>0.2225</td>\n      <td>0.235</td>\n      <td>0.2400</td>\n      <td>0.26</td>\n    </tr>\n    <tr>\n      <th>4616315d-141</th>\n      <th>0</th>\n      <td>10.0</td>\n      <td>0.233</td>\n      <td>1.059350e-02</td>\n      <td>0.22</td>\n      <td>0.2300</td>\n      <td>0.230</td>\n      <td>0.2375</td>\n      <td>0.25</td>\n    </tr>\n    <tr>\n      <th>65b6820b-b39</th>\n      <th>0</th>\n      <td>10.0</td>\n      <td>0.240</td>\n      <td>5.851389e-17</td>\n      <td>0.24</td>\n      <td>0.2400</td>\n      <td>0.240</td>\n      <td>0.2400</td>\n      <td>0.24</td>\n    </tr>\n  </tbody>\n</table>\n</div>"
     },
     "execution_count": 35,
     "metadata": {},
     "output_type": "execute_result"
    }
   ],
   "source": [
    "res.groupby(['exp_id', '_try']).describe().sort_values(('value', 'max'), ascending=False)"
   ],
   "metadata": {
    "collapsed": false,
    "pycharm": {
     "name": "#%%\n"
    }
   }
  }
 ],
 "metadata": {
  "kernelspec": {
   "display_name": "Python 3",
   "language": "python",
   "name": "python3"
  },
  "language_info": {
   "codemirror_mode": {
    "name": "ipython",
    "version": 2
   },
   "file_extension": ".py",
   "mimetype": "text/x-python",
   "name": "python",
   "nbconvert_exporter": "python",
   "pygments_lexer": "ipython2",
   "version": "2.7.6"
  }
 },
 "nbformat": 4,
 "nbformat_minor": 0
}