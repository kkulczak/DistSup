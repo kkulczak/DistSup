{
 "cells": [
  {
   "cell_type": "code",
   "execution_count": null,
   "metadata": {},
   "outputs": [],
   "source": [
    "import numpy as np\n",
    "import pandas as pd\n",
    "import math\n",
    "from parser_random_exp import parse_results\n",
    "import matplotlib.pyplot as plt\n",
    "!pip install -q seaborn tqdm dask[bag]\n",
    "import seaborn as sns\n",
    "from matplotlib.ticker import FuncFormatter, MultipleLocator, ScalarFormatter\n",
    "\n",
    "%load_ext autoreload\n",
    "%autoreload 2"
   ]
  },
  {
   "cell_type": "code",
   "execution_count": null,
   "metadata": {},
   "outputs": [],
   "source": [
    "def are_exp(values):\n",
    "    if any(type(v) is bool for v in values):\n",
    "        return False\n",
    "    x = sorted(values)\n",
    "    for i in range(1, len(values)):\n",
    "        if (x[i-1] * 2 - x[i]) > 0.00000001:\n",
    "            return False\n",
    "    return True\n",
    "\n",
    "def plot_one_to_one_for_params(paths, met='one_es_to_one_gt_accuracy/gan_tokens', figsize=(16,20)):\n",
    "    if type(paths) is str:\n",
    "        paths = [paths]\n",
    "    combined_proc_data = [None] * len(paths)\n",
    "    params_data = [None] * len(paths)\n",
    "    for i, path in enumerate(paths):\n",
    "        data, params = parse_results(path)\n",
    "        res = data[data['name'] == met]\n",
    "        best_for_run = res.groupby(['exp_id', '_try', 'name'])['exp_id', '_try', 'name', 'value'].max()\n",
    "        combined_proc_data[i] = pd.merge(params, best_for_run,left_index=True, right_on='exp_id',  how='outer')\n",
    "        params_data[i] = params\n",
    "    \n",
    "    all_params = list(set([x for p in params_data for x in p.columns.to_list()]))\n",
    "\n",
    "    fig, axs = plt.subplots(math.ceil(len(all_params) / 2), 2 , figsize=figsize)\n",
    "    for i, param in enumerate(all_params):\n",
    "        for exp_num, (proc_data, params) in enumerate(zip(combined_proc_data, params_data)):\n",
    "            if param not in params.columns.to_list():\n",
    "                continue\n",
    "            log_plot: bool = are_exp(list(set(proc_data[param].values)))\n",
    "            if log_plot:\n",
    "                axs.flatten()[i].set_xscale('log', basex=2)\n",
    "                axs.flatten()[i].xaxis.set_major_formatter(ScalarFormatter())\n",
    "            sns.regplot(\n",
    "                x=param,\n",
    "                y='value',\n",
    "                data=proc_data,\n",
    "                ax=axs.flatten()[i],\n",
    "                dropna=True,\n",
    "                logx=log_plot,\n",
    "                label=paths[exp_num]\n",
    "            ).set_title(param.split('.')[-1])\n",
    "            axs.flatten()[i].legend()\n"
   ]
  },
  {
   "cell_type": "code",
   "execution_count": null,
   "metadata": {},
   "outputs": [],
   "source": [
    "plot_one_to_one_for_params(\n",
    "    [\n",
    "        'runs/2020_05_28/id_protos_gan_without_blanks/',\n",
    "        'runs/2020_05_21/id_all_as_protos/',\n",
    "    ],\n",
    "    figsize=(16,8),\n",
    ")"
   ]
  }
 ],
 "metadata": {
  "kernelspec": {
   "display_name": "Python 3",
   "language": "python",
   "name": "python3"
  },
  "language_info": {
   "codemirror_mode": {
    "name": "ipython",
    "version": 3
   },
   "file_extension": ".py",
   "mimetype": "text/x-python",
   "name": "python",
   "nbconvert_exporter": "python",
   "pygments_lexer": "ipython3",
   "version": "3.7.3"
  }
 },
 "nbformat": 4,
 "nbformat_minor": 1
}
