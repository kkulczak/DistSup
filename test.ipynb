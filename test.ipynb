{
 "cells": [
  {
   "cell_type": "code",
   "execution_count": 250,
   "metadata": {
    "collapsed": true
   },
   "outputs": [],
   "source": [
    "from itertools import chain\n",
    "import torch\n",
    "import torch.nn as nn"
   ]
  },
  {
   "cell_type": "code",
   "execution_count": 251,
   "outputs": [
    {
     "data": {
      "text/plain": "OrderedDict([('gen.weight', tensor([[ 0.1225, -0.2644]])),\n             ('gen.bias', tensor([-0.0876])),\n             ('dis.weight', tensor([[0.8265]])),\n             ('dis.bias', tensor([-0.3960]))])"
     },
     "execution_count": 251,
     "metadata": {},
     "output_type": "execute_result"
    }
   ],
   "source": [
    "class Model(nn.Module):\n",
    "    def __init__(self):\n",
    "        super(Model, self).__init__()\n",
    "        self.gen = nn.Linear(2, 1, bias=True)\n",
    "        self.dis = nn.Linear(1, 1, bias=True)\n",
    "\n",
    "    def forward(self, input):\n",
    "        return self.b(self.a(input))\n",
    "\n",
    "def sample_input():\n",
    "    return torch.rand((1, 2))\n",
    "\n",
    "\n",
    "\n",
    "model = Model()\n",
    "def show():\n",
    "    for name, data in model.named_parameters():\n",
    "        print(name, data.data, data.grad)\n",
    "    # print('a', model.a.weight, model.a.weight.grad)\n",
    "    # for k,v in model.state_dict().items():\n",
    "\n",
    "    print()\n",
    "optim = torch.optim.SGD(chain(model.parameters(), Model().parameters()), lr=0.001)\n",
    "model.state_dict()"
   ],
   "metadata": {
    "collapsed": false,
    "pycharm": {
     "name": "#%%\n"
    }
   }
  },
  {
   "cell_type": "code",
   "execution_count": 177,
   "outputs": [
    {
     "name": "stdout",
     "output_type": "stream",
     "text": [
      "a.weight tensor([[0.4668, 0.1711]]) None\n",
      "a.bias tensor([0.0739]) None\n",
      "b.weight tensor([[0.2057]]) None\n",
      "b.bias tensor([-0.5026]) None\n",
      "\n",
      "tensor([[-0.3985]], grad_fn=<AddmmBackward>)\n",
      "a.weight tensor([[0.4668, 0.1711]]) tensor([[0.1581, 0.0881]])\n",
      "a.bias tensor([0.0739]) tensor([0.2057])\n",
      "b.weight tensor([[0.2057]]) tensor([[0.5060]])\n",
      "b.bias tensor([-0.5026]) tensor([1.])\n",
      "\n",
      "a.weight tensor([[0.4667, 0.1710]]) tensor([[0.1581, 0.0881]])\n",
      "a.bias tensor([0.0737]) tensor([0.2057])\n",
      "b.weight tensor([[0.2052]]) tensor([[0.5060]])\n",
      "b.bias tensor([-0.5036]) tensor([1.])\n",
      "\n"
     ]
    }
   ],
   "source": [
    "optim.zero_grad()\n",
    "\n",
    "show()\n",
    "res = model(sample_input())\n",
    "res.backward()\n",
    "print(res)\n",
    "\n",
    "show()\n",
    "optim.step()\n",
    "\n",
    "show()\n"
   ],
   "metadata": {
    "collapsed": false,
    "pycharm": {
     "name": "#%%\n"
    }
   }
  },
  {
   "cell_type": "code",
   "execution_count": 243,
   "outputs": [
    {
     "name": "stdout",
     "output_type": "stream",
     "text": [
      "a.weight tensor([[0.4599, 0.1644]]) tensor([[0., 0.]])\n",
      "a.bias tensor([0.0604]) tensor([0.])\n",
      "b.weight tensor([[0.2052]]) tensor([[0.]])\n",
      "b.bias tensor([-0.5036]) tensor([0.])\n",
      "\n",
      "tensor([[-0.4543]], grad_fn=<AddmmBackward>)\n",
      "a.weight tensor([[0.4599, 0.1644]]) tensor([[0.0098, 0.1972]])\n",
      "a.bias tensor([0.0604]) tensor([0.2052])\n",
      "b.weight tensor([[0.2052]]) tensor([[0.]])\n",
      "b.bias tensor([-0.5036]) tensor([0.])\n",
      "\n",
      "a.weight tensor([[0.4599, 0.1642]]) tensor([[0.0098, 0.1972]])\n",
      "a.bias tensor([0.0601]) tensor([0.2052])\n",
      "b.weight tensor([[0.2052]]) tensor([[0.]])\n",
      "b.bias tensor([-0.5036]) tensor([0.])\n",
      "\n"
     ]
    }
   ],
   "source": [
    "# model.b.weight.requires_grad_(False)\n",
    "# model.b.bias.requires_grad_(False)\n",
    "optim.zero_grad()\n",
    "\n",
    "show()\n",
    "res = model(sample_input())\n",
    "res.backward()\n",
    "print(res)\n",
    "model.b.zero_grad()\n",
    "\n",
    "show()\n",
    "optim.step()\n",
    "\n",
    "show()"
   ],
   "metadata": {
    "collapsed": false,
    "pycharm": {
     "name": "#%%\n"
    }
   }
  },
  {
   "cell_type": "code",
   "execution_count": 252,
   "outputs": [
    {
     "data": {
      "text/plain": "{'state': {},\n 'param_groups': [{'lr': 0.001,\n   'momentum': 0,\n   'dampening': 0,\n   'weight_decay': 0,\n   'nesterov': False,\n   'params': [140170710410296,\n    140170710409720,\n    140170718589360,\n    140170718591232,\n    140170710410728,\n    140170710412168,\n    140170710411664,\n    140170718592744]}]}"
     },
     "execution_count": 252,
     "metadata": {},
     "output_type": "execute_result"
    }
   ],
   "source": [],
   "metadata": {
    "collapsed": false,
    "pycharm": {
     "name": "#%%\n"
    }
   }
  }
 ],
 "metadata": {
  "kernelspec": {
   "display_name": "Python 3",
   "language": "python",
   "name": "python3"
  },
  "language_info": {
   "codemirror_mode": {
    "name": "ipython",
    "version": 2
   },
   "file_extension": ".py",
   "mimetype": "text/x-python",
   "name": "python",
   "nbconvert_exporter": "python",
   "pygments_lexer": "ipython2",
   "version": "2.7.6"
  }
 },
 "nbformat": 4,
 "nbformat_minor": 0
}